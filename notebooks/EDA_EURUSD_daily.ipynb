{
 "cells": [
  {
   "cell_type": "code",
   "execution_count": 3,
   "id": "4f12de35-eb1f-4a58-9cc2-1169f3d8e725",
   "metadata": {},
   "outputs": [],
   "source": [
    "import pandas as pd\n",
    "import numpy as np\n",
    "import matplotlib.pyplot as plt\n",
    "import seaborn as sns"
   ]
  },
  {
   "cell_type": "code",
   "execution_count": 15,
   "id": "e35bb8ae-beb6-48fa-951f-0cba12e58bc0",
   "metadata": {},
   "outputs": [
    {
     "name": "stdout",
     "output_type": "stream",
     "text": [
      "               Price  Adj Close     Close      High       Low  Open\n",
      "Date                                                               \n",
      "2015-01-01  1.209863   1.209863  1.209863  1.209863  1.209863     0\n",
      "2015-01-02  1.208941   1.208941  1.208956  1.201080  1.208868     0\n",
      "2015-01-05  1.194643   1.194643  1.197590  1.188909  1.195500     0\n",
      "2015-01-06  1.193902   1.193902  1.197000  1.188693  1.193830     0\n",
      "2015-01-07  1.187536   1.187536  1.190000  1.180401  1.187479     0\n"
     ]
    }
   ],
   "source": [
    "# Correct column names (excluding 'Volume')\n",
    "col_names = [\"Date\", \"Price\", \"Adj Close\", \"Close\", \"High\", \"Low\", \"Open\"]\n",
    "\n",
    "# Read the CSV, skipping unnecessary rows\n",
    "data = pd.read_csv(\n",
    "    \"../data/raw/eur_usd_data.csv\",\n",
    "    skiprows=3,  # Skip the header rows\n",
    "    names=col_names,  # Use the correct column names\n",
    "    parse_dates=[\"Date\"],  # Parse 'Date' as datetime\n",
    "    index_col=\"Date\"  # Set 'Date' as the index\n",
    ")\n",
    "\n",
    "# Display the first few rows to verify alignment\n",
    "print(data.head())"
   ]
  },
  {
   "cell_type": "code",
   "execution_count": null,
   "id": "18129895-f56a-4a13-afa4-d97b105d6f03",
   "metadata": {},
   "outputs": [],
   "source": []
  }
 ],
 "metadata": {
  "kernelspec": {
   "display_name": "Python 3 (ipykernel)",
   "language": "python",
   "name": "python3"
  },
  "language_info": {
   "codemirror_mode": {
    "name": "ipython",
    "version": 3
   },
   "file_extension": ".py",
   "mimetype": "text/x-python",
   "name": "python",
   "nbconvert_exporter": "python",
   "pygments_lexer": "ipython3",
   "version": "3.12.7"
  }
 },
 "nbformat": 4,
 "nbformat_minor": 5
}
