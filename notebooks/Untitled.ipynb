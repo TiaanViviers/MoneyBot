{
 "cells": [
  {
   "cell_type": "code",
   "execution_count": null,
   "id": "4f12de35-eb1f-4a58-9cc2-1169f3d8e725",
   "metadata": {},
   "outputs": [],
   "source": []
  }
 ],
 "metadata": {
  "kernelspec": {
   "display_name": "",
   "name": ""
  },
  "language_info": {
   "name": ""
  }
 },
 "nbformat": 4,
 "nbformat_minor": 5
}
